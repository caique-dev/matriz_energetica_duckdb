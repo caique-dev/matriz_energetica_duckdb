{
 "cells": [
  {
   "cell_type": "markdown",
   "metadata": {},
   "source": [
    "# Criando Banco"
   ]
  },
  {
   "cell_type": "code",
   "execution_count": 3,
   "metadata": {},
   "outputs": [],
   "source": [
    "import duckdb\n",
    "\n",
    "con = duckdb.connect('../data/db_files/file.db')\n",
    "\n",
    "q = \"\"\"\n",
    "    CREATE TABLE infos_anuais_paises (\n",
    "        nome VARCHAR(100),\n",
    "        continente VARCHAR(50),\n",
    "        ano INTEGER,\n",
    "        populacao BIGINT,\n",
    "        mortes_desastres_nat INTERGER,\n",
    "        pib_percapta REAL,\n",
    "        emissao_gee_percapta REAL,\n",
    "        desvio_media_temp REAL,\n",
    "        qntd_energia_prod REAL,\n",
    "        energia_solar REAL,\n",
    "        energia_carvao REAL,\n",
    "        energia_nuclear REAL,\n",
    "        energia_eolica REAL,\n",
    "        energia_petroleo REAL,\n",
    "        energia_hidreletrica REAL,\n",
    "    )\n",
    "\n",
    "\"\"\"\n",
    "\n",
    "con.close()"
   ]
  }
 ],
 "metadata": {
  "kernelspec": {
   "display_name": "jupyter_venv",
   "language": "python",
   "name": "python3"
  },
  "language_info": {
   "codemirror_mode": {
    "name": "ipython",
    "version": 3
   },
   "file_extension": ".py",
   "mimetype": "text/x-python",
   "name": "python",
   "nbconvert_exporter": "python",
   "pygments_lexer": "ipython3",
   "version": "3.12.3"
  }
 },
 "nbformat": 4,
 "nbformat_minor": 2
}
