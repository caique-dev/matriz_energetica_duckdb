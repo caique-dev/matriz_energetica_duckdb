{
 "cells": [
  {
   "cell_type": "code",
   "execution_count": 1,
   "metadata": {},
   "outputs": [],
   "source": [
    "import duckdb\n",
    "con = duckdb.connect('../data/db_files/file.db')"
   ]
  },
  {
   "cell_type": "markdown",
   "metadata": {},
   "source": [
    "# Criando Tabela"
   ]
  },
  {
   "cell_type": "code",
   "execution_count": 2,
   "metadata": {},
   "outputs": [],
   "source": [
    "\n",
    "q = \"\"\"\n",
    "    CREATE TABLE infos_anuais_paises (\n",
    "        nome VARCHAR(100),\n",
    "        codigo VARCHAR(3),\n",
    "        continente VARCHAR(10),\n",
    "        ano INTEGER,\n",
    "        populacao BIGINT,\n",
    "        morte_desastes_naturais INTEGER,\n",
    "        pib_per_capita DOUBLE,\n",
    "        gee_per_capita DOUBLE,\n",
    "        anomalia_temperatura DOUBLE,\n",
    "        energia_produzida DOUBLE,\n",
    "        fonte_carvao DOUBLE,\n",
    "        fonte_nuclar DOUBLE,\n",
    "        fonte_gas DOUBLE,\n",
    "        fonte_petroleo DOUBLE,\n",
    "        fonte_solar DOUBLE,\n",
    "        fonte_hidreletrica DOUBLE\n",
    "    )\n",
    "\"\"\"\n",
    "\n",
    "con.sql(q)"
   ]
  },
  {
   "cell_type": "markdown",
   "metadata": {},
   "source": [
    "# Inserindo valores"
   ]
  },
  {
   "cell_type": "code",
   "execution_count": 3,
   "metadata": {},
   "outputs": [],
   "source": [
    "q = \"\"\"\n",
    "    COPY infos_anuais_paises FROM '../data/dados_db.csv' (DELIMITER ',');\n",
    "\"\"\"\n",
    "\n",
    "con.sql(q)"
   ]
  },
  {
   "cell_type": "markdown",
   "id": "3b9f076d",
   "metadata": {},
   "source": [
    "# Conferindo dados"
   ]
  },
  {
   "cell_type": "code",
   "execution_count": 4,
   "id": "266163c8",
   "metadata": {},
   "outputs": [
    {
     "name": "stdout",
     "output_type": "stream",
     "text": [
      "┌─────────────┬─────────┬───────────────┬───────┬───────────┬─────────────────────────┬────────────────┬────────────────┬──────────────────────┬───────────────────┬──────────────┬──────────────┬───────────┬────────────────┬─────────────┬────────────────────┐\n",
      "│    nome     │ codigo  │  continente   │  ano  │ populacao │ morte_desastes_naturais │ pib_per_capita │ gee_per_capita │ anomalia_temperatura │ energia_produzida │ fonte_carvao │ fonte_nuclar │ fonte_gas │ fonte_petroleo │ fonte_solar │ fonte_hidreletrica │\n",
      "│   varchar   │ varchar │    varchar    │ int32 │   int64   │          int32          │     double     │     double     │        double        │      double       │    double    │    double    │  double   │     double     │   double    │       double       │\n",
      "├─────────────┼─────────┼───────────────┼───────┼───────────┼─────────────────────────┼────────────────┼────────────────┼──────────────────────┼───────────────────┼──────────────┼──────────────┼───────────┼────────────────┼─────────────┼────────────────────┤\n",
      "│ Aruba       │ ABW     │ North America │  1960 │     54922 │                    NULL │           NULL │           NULL │                 NULL │              NULL │         NULL │         NULL │      NULL │           NULL │        NULL │               NULL │\n",
      "│ Aruba       │ ABW     │ North America │  1961 │     55578 │                    NULL │           NULL │           NULL │                 NULL │              NULL │         NULL │         NULL │      NULL │           NULL │        NULL │               NULL │\n",
      "│ Aruba       │ ABW     │ North America │  1962 │     56320 │                    NULL │           NULL │           NULL │                 NULL │              NULL │         NULL │         NULL │      NULL │           NULL │        NULL │               NULL │\n",
      "│ Aruba       │ ABW     │ North America │  1963 │     57002 │                    NULL │           NULL │           NULL │                 NULL │              NULL │         NULL │         NULL │      NULL │           NULL │        NULL │               NULL │\n",
      "│ Aruba       │ ABW     │ North America │  1964 │     57619 │                    NULL │           NULL │           NULL │                 NULL │              NULL │         NULL │         NULL │      NULL │           NULL │        NULL │               NULL │\n",
      "│ Aruba       │ ABW     │ North America │  1965 │     58190 │                    NULL │           NULL │           NULL │                 NULL │              NULL │         NULL │         NULL │      NULL │           NULL │        NULL │               NULL │\n",
      "│ Aruba       │ ABW     │ North America │  1966 │     58694 │                    NULL │           NULL │           NULL │                 NULL │              NULL │         NULL │         NULL │      NULL │           NULL │        NULL │               NULL │\n",
      "│ Aruba       │ ABW     │ North America │  1967 │     58990 │                    NULL │           NULL │           NULL │                 NULL │              NULL │         NULL │         NULL │      NULL │           NULL │        NULL │               NULL │\n",
      "│ Aruba       │ ABW     │ North America │  1968 │     59069 │                    NULL │           NULL │           NULL │                 NULL │              NULL │         NULL │         NULL │      NULL │           NULL │        NULL │               NULL │\n",
      "│ Aruba       │ ABW     │ North America │  1969 │     59052 │                    NULL │           NULL │           NULL │                 NULL │              NULL │         NULL │         NULL │      NULL │           NULL │        NULL │               NULL │\n",
      "│   ·         │  ·      │       ·       │    ·  │       ·   │                      ·  │             ·  │             ·  │                   ·  │                ·  │           ·  │           ·  │        ·  │             ·  │          ·  │                 ·  │\n",
      "│   ·         │  ·      │       ·       │    ·  │       ·   │                      ·  │             ·  │             ·  │                   ·  │                ·  │           ·  │           ·  │        ·  │             ·  │          ·  │                 ·  │\n",
      "│   ·         │  ·      │       ·       │    ·  │       ·   │                      ·  │             ·  │             ·  │                   ·  │                ·  │           ·  │           ·  │        ·  │             ·  │          ·  │                 ·  │\n",
      "│ Puerto Rico │ PRI     │ North America │  1966 │   2624995 │                    NULL │           NULL │           NULL │          -0.42903152 │              NULL │         NULL │         NULL │      NULL │           NULL │        NULL │               NULL │\n",
      "│ Puerto Rico │ PRI     │ North America │  1967 │   2645674 │                    NULL │           NULL │           NULL │           -0.4328572 │              NULL │         NULL │         NULL │      NULL │           NULL │        NULL │               NULL │\n",
      "│ Puerto Rico │ PRI     │ North America │  1968 │   2662064 │                    NULL │           NULL │           NULL │           -0.6544731 │              NULL │         NULL │         NULL │      NULL │           NULL │        NULL │               NULL │\n",
      "│ Puerto Rico │ PRI     │ North America │  1969 │   2684150 │                    NULL │           NULL │           NULL │          -0.19982386 │              NULL │         NULL │         NULL │      NULL │           NULL │        NULL │               NULL │\n",
      "│ Puerto Rico │ PRI     │ North America │  1970 │   2718000 │                    NULL │           NULL │           NULL │          -0.31929445 │              NULL │         NULL │         NULL │      NULL │           NULL │        NULL │               NULL │\n",
      "│ Puerto Rico │ PRI     │ North America │  1971 │   2762190 │                    NULL │           NULL │           NULL │          -0.18572044 │              NULL │         NULL │         NULL │      NULL │           NULL │        NULL │               NULL │\n",
      "│ Puerto Rico │ PRI     │ North America │  1972 │   2817256 │                    NULL │           NULL │           NULL │         -0.036435604 │              NULL │         NULL │         NULL │      NULL │           NULL │        NULL │               NULL │\n",
      "│ Puerto Rico │ PRI     │ North America │  1973 │   2878786 │                    NULL │           NULL │           NULL │           0.09536425 │              NULL │         NULL │         NULL │      NULL │           NULL │        NULL │               NULL │\n",
      "│ Puerto Rico │ PRI     │ North America │  1974 │   2939299 │                    NULL │           NULL │           NULL │          -0.38138184 │              NULL │         NULL │         NULL │      NULL │           NULL │        NULL │               NULL │\n",
      "│ Puerto Rico │ PRI     │ North America │  1975 │   2994000 │                    NULL │           NULL │           NULL │          -0.51549023 │              NULL │         NULL │         NULL │      NULL │           NULL │        NULL │               NULL │\n",
      "├─────────────┴─────────┴───────────────┴───────┴───────────┴─────────────────────────┴────────────────┴────────────────┴──────────────────────┴───────────────────┴──────────────┴──────────────┴───────────┴────────────────┴─────────────┴────────────────────┤\n",
      "│ ? rows (>9999 rows, 20 shown)                                                                                                                                                                                                                       16 columns │\n",
      "└────────────────────────────────────────────────────────────────────────────────────────────────────────────────────────────────────────────────────────────────────────────────────────────────────────────────────────────────────────────────────────────────┘\n",
      "\n"
     ]
    }
   ],
   "source": [
    "con.table(\"infos_anuais_paises\").show()"
   ]
  }
 ],
 "metadata": {
  "kernelspec": {
   "display_name": "jupyter_venv",
   "language": "python",
   "name": "python3"
  },
  "language_info": {
   "codemirror_mode": {
    "name": "ipython",
    "version": 3
   },
   "file_extension": ".py",
   "mimetype": "text/x-python",
   "name": "python",
   "nbconvert_exporter": "python",
   "pygments_lexer": "ipython3",
   "version": "3.12.3"
  }
 },
 "nbformat": 4,
 "nbformat_minor": 5
}
